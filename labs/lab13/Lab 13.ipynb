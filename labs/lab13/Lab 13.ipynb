{
 "cells": [
  {
   "cell_type": "code",
   "execution_count": 1,
   "metadata": {},
   "outputs": [
    {
     "name": "stderr",
     "output_type": "stream",
     "text": [
      "Using TensorFlow backend.\n"
     ]
    }
   ],
   "source": [
    "from sklearn.datasets import fetch_20newsgroups\n",
    "from keras.preprocessing.text import Tokenizer\n",
    "\n",
    "import warnings\n",
    "warnings.filterwarnings('ignore')"
   ]
  },
  {
   "cell_type": "code",
   "execution_count": 2,
   "metadata": {},
   "outputs": [],
   "source": [
    "cats = ['alt.atheism', 'sci.space']\n",
    "data = fetch_20newsgroups(subset='train', categories=cats)"
   ]
  },
  {
   "cell_type": "code",
   "execution_count": 3,
   "metadata": {},
   "outputs": [
    {
     "data": {
      "text/plain": [
       "'From: bil@okcforum.osrhe.edu (Bill Conner)\\nSubject: Re: Not the Omni!\\nNntp-Posting-Host: okcforum.osrhe.edu\\nOrganization: Okcforum Unix Users Group\\nX-Newsreader: TIN [version 1.1 PL6]\\nLines: 18\\n\\nCharley Wingate (mangoe@cs.umd.edu) wrote:\\n: \\n: >> Please enlighten me.  How is omnipotence contradictory?\\n: \\n: >By definition, all that can occur in the universe is governed by the rules\\n: >of nature. Thus god cannot break them. Anything that god does must be allowed\\n: >in the rules somewhere. Therefore, omnipotence CANNOT exist! It contradicts\\n: >the rules of nature.\\n: \\n: Obviously, an omnipotent god can change the rules.\\n\\nWhen you say, \"By definition\", what exactly is being defined;\\ncertainly not omnipotence. You seem to be saying that the \"rules of\\nnature\" are pre-existant somehow, that they not only define nature but\\nactually cause it. If that\\'s what you mean I\\'d like to hear your\\nfurther thoughts on the question.\\n\\nBill\\n'"
      ]
     },
     "execution_count": 3,
     "metadata": {},
     "output_type": "execute_result"
    }
   ],
   "source": [
    "data[\"data\"][0]"
   ]
  },
  {
   "cell_type": "markdown",
   "metadata": {},
   "source": [
    "[The quick brown fox jumped over the lazy dog](https://ru.wikipedia.org/wiki/The_quick_brown_fox_jumps_over_the_lazy_dog)"
   ]
  },
  {
   "cell_type": "code",
   "execution_count": 9,
   "metadata": {},
   "outputs": [
    {
     "data": {
      "text/plain": [
       "['the', 'quick', 'brown', 'fox', 'jumped', 'over', 'the', 'lazy', 'dog']"
      ]
     },
     "execution_count": 9,
     "metadata": {},
     "output_type": "execute_result"
    }
   ],
   "source": [
    "from keras.preprocessing.text import text_to_word_sequence\n",
    "\n",
    "text = 'The quick brown fox jumped over the lazy dog'\n",
    "result = text_to_word_sequence(text)\n",
    "\n",
    "result"
   ]
  },
  {
   "cell_type": "code",
   "execution_count": 15,
   "metadata": {},
   "outputs": [
    {
     "name": "stdout",
     "output_type": "stream",
     "text": [
      "8\n",
      "[1, 5, 2, 8, 1, 2, 1, 3, 9]\n"
     ]
    }
   ],
   "source": [
    "from keras.preprocessing.text import one_hot\n",
    "\n",
    "words = set(text_to_word_sequence(text))\n",
    "vocab_size = len(words)\n",
    "\n",
    "result = one_hot(text, round(vocab_size*1.3))\n",
    "\n",
    "print(vocab_size)\n",
    "print(result)"
   ]
  },
  {
   "cell_type": "code",
   "execution_count": 6,
   "metadata": {},
   "outputs": [
    {
     "data": {
      "text/plain": [
       "{'brown', 'dog', 'fox', 'jumped', 'lazy', 'over', 'quick', 'the'}"
      ]
     },
     "execution_count": 6,
     "metadata": {},
     "output_type": "execute_result"
    }
   ],
   "source": [
    "words"
   ]
  },
  {
   "cell_type": "code",
   "execution_count": 17,
   "metadata": {},
   "outputs": [
    {
     "name": "stdout",
     "output_type": "stream",
     "text": [
      "8\n",
      "[38, 78, 61, 55, 16, 71, 38, 8, 10]\n"
     ]
    }
   ],
   "source": [
    "from keras.preprocessing.text import hashing_trick\n",
    "\n",
    "words = set(text_to_word_sequence(text))\n",
    "vocab_size = len(words)\n",
    "result = hashing_trick(text, round(vocab_size*10), hash_function='md5')\n",
    "\n",
    "print(vocab_size)\n",
    "print(result)"
   ]
  },
  {
   "cell_type": "code",
   "execution_count": 18,
   "metadata": {},
   "outputs": [
    {
     "name": "stdout",
     "output_type": "stream",
     "text": [
      "OrderedDict([('well', 1), ('done', 1), ('good', 1), ('work', 2), ('great', 1), ('effort', 1), ('nice', 1), ('excellent', 1)])\n",
      "5\n",
      "{'work': 1, 'well': 2, 'done': 3, 'good': 4, 'great': 5, 'effort': 6, 'nice': 7, 'excellent': 8}\n",
      "defaultdict(<class 'int'>, {'well': 1, 'done': 1, 'good': 1, 'work': 2, 'great': 1, 'effort': 1, 'nice': 1, 'excellent': 1})\n"
     ]
    }
   ],
   "source": [
    "from keras.preprocessing.text import Tokenizer\n",
    "docs = ['Well done!', 'Good work', 'Great effort', 'nice work', 'Excellent!']\n",
    "t = Tokenizer()\n",
    "t.fit_on_texts(docs)\n",
    "\n",
    "#word_counts: A dictionary of words and their counts.\n",
    "print(t.word_counts)\n",
    "\n",
    "#word_docs: A dictionary of words and how many documents each appeared in.\n",
    "print(t.document_count)\n",
    "\n",
    "#word_index: A dictionary of words and their uniquely assigned integers.\n",
    "print(t.word_index)\n",
    "\n",
    "#document_count:An integer count of the total number of documents that were used to fit the Tokenizer.\n",
    "print(t.word_docs)"
   ]
  },
  {
   "cell_type": "code",
   "execution_count": 19,
   "metadata": {},
   "outputs": [
    {
     "name": "stdout",
     "output_type": "stream",
     "text": [
      "[[0. 0. 1. 1. 0. 0. 0. 0. 0.]\n",
      " [0. 1. 0. 0. 1. 0. 0. 0. 0.]\n",
      " [0. 0. 0. 0. 0. 1. 1. 0. 0.]\n",
      " [0. 1. 0. 0. 0. 0. 0. 1. 0.]\n",
      " [0. 0. 0. 0. 0. 0. 0. 0. 1.]]\n"
     ]
    }
   ],
   "source": [
    "encoded_docs = t.texts_to_matrix(docs, mode='count')\n",
    "print(encoded_docs)"
   ]
  },
  {
   "cell_type": "code",
   "execution_count": 20,
   "metadata": {},
   "outputs": [],
   "source": [
    "tokenizer = Tokenizer()\n",
    "tokenizer.fit_on_texts(data[\"data\"])\n",
    "len(data[\"data\"])\n",
    "\n",
    "x = tokenizer.texts_to_matrix(data[\"data\"], mode='binary')"
   ]
  },
  {
   "cell_type": "code",
   "execution_count": 21,
   "metadata": {},
   "outputs": [
    {
     "data": {
      "text/plain": [
       "array([[0., 1., 1., ..., 0., 0., 0.],\n",
       "       [0., 1., 1., ..., 0., 0., 0.],\n",
       "       [0., 1., 1., ..., 0., 0., 0.],\n",
       "       ...,\n",
       "       [0., 1., 1., ..., 0., 0., 0.],\n",
       "       [0., 1., 1., ..., 0., 0., 0.],\n",
       "       [0., 1., 0., ..., 1., 1., 1.]])"
      ]
     },
     "execution_count": 21,
     "metadata": {},
     "output_type": "execute_result"
    }
   ],
   "source": [
    "x"
   ]
  },
  {
   "cell_type": "code",
   "execution_count": 22,
   "metadata": {},
   "outputs": [
    {
     "data": {
      "text/plain": [
       "{0, 1}"
      ]
     },
     "execution_count": 22,
     "metadata": {},
     "output_type": "execute_result"
    }
   ],
   "source": [
    "set(data[\"target\"])"
   ]
  },
  {
   "cell_type": "code",
   "execution_count": 23,
   "metadata": {},
   "outputs": [
    {
     "name": "stdout",
     "output_type": "stream",
     "text": [
      "[1, 2, 3, 5, 6, 10, 11, 12, 13, 14, 17, 18, 20, 21, 27, 29, 31, 34, 37, 40, 42, 43, 44, 46, 47, 48, 51, 52, 54, 55, 56, 60, 62, 65, 67, 70, 71, 72, 73, 76, 77, 78, 79, 81, 82, 84, 85, 86, 88, 91, 95, 96, 97, 98, 100, 101, 104, 107, 108, 109, 119, 125, 126, 127, 128, 129, 130, 132, 133, 134, 135, 139, 141, 143, 145, 146, 149, 150, 151, 152, 153, 154, 157, 158, 159, 160, 163, 164, 165, 167, 168, 169, 170, 171, 173, 174, 175, 179, 180, 181, 185, 187, 191, 192, 193, 195, 196, 200, 202, 203, 207, 208, 209, 210, 212, 213, 216, 217, 218, 219, 222, 223, 224, 225, 226, 227, 228, 229, 230, 231, 233, 234, 237, 240, 241, 242, 245, 246, 249, 250, 251, 252, 254, 256, 260, 263, 265, 268, 270, 271, 272, 274, 275, 283, 288, 289, 290, 292, 293, 296, 299, 302, 303, 306, 308, 311, 312, 313, 314, 315, 318, 319, 322, 323, 324, 325, 327, 329, 334, 335, 339, 342, 343, 345, 346, 349, 350, 356, 357, 359, 361, 364, 365, 367, 371, 372, 373, 375, 376, 377, 379, 380, 382, 383, 384, 385, 386, 390, 391, 393, 394, 395, 396, 397, 401, 406, 407, 410, 411, 412, 413, 414, 416, 417, 418, 421, 426, 428, 436, 439, 440, 441, 443, 444, 446, 447, 448, 449, 450, 451, 452, 453, 454, 455, 456, 457, 461, 462, 465, 466, 467, 468, 469, 470, 471, 472, 475, 476, 477, 478, 479, 481, 482, 483, 484, 485, 486, 487, 488, 497, 499, 501, 504, 505, 507, 509, 514, 515, 518, 519, 522, 523, 524, 527, 528, 530, 531, 532, 533, 534, 535, 536, 537, 538, 540, 543, 544, 547, 548, 552, 553, 555, 556, 561, 563, 569, 572, 573, 578, 579, 581, 586, 587, 589, 591, 592, 595, 596, 597, 599, 601, 602, 603, 605, 607, 609, 611, 612, 613, 614, 615, 616, 618, 619, 621, 624, 625, 626, 627, 628, 631, 633, 634, 635, 637, 638, 640, 642, 643, 648, 649, 650, 651, 652, 656, 657, 658, 660, 663, 665, 666, 668, 673, 675, 679, 680, 681, 683, 684, 685, 687, 688, 689, 690, 691, 693, 694, 696, 697, 699, 701, 703, 705, 708, 709, 710, 712, 713, 714, 716, 720, 722, 726, 727, 728, 729, 730, 732, 733, 736, 739, 740, 741, 744, 745, 746, 747, 748, 749, 753, 754, 755, 756, 760, 761, 762, 763, 764, 765, 766, 769, 770, 773, 774, 775, 781, 782, 785, 787, 788, 790, 791, 795, 797, 798, 799, 803, 804, 805, 807, 810, 814, 816, 817, 819, 820, 822, 823, 826, 827, 828, 831, 832, 833, 835, 837, 839, 840, 841, 842, 843, 844, 845, 846, 847, 848, 851, 854, 856, 857, 858, 861, 862, 865, 868, 872, 873, 874, 875, 877, 880, 881, 883, 885, 886, 888, 889, 891, 892, 896, 897, 898, 901, 905, 906, 907, 908, 909, 910, 911, 912, 913, 915, 916, 917, 918, 919, 920, 922, 923, 924, 925, 928, 930, 931, 933, 934, 935, 936, 937, 940, 944, 945, 946, 947, 949, 952, 955, 956, 957, 959, 961, 965, 966, 967, 968, 971, 972, 974, 975, 978, 979, 980, 982, 985, 986, 988, 989, 990, 992, 994, 996, 997, 998, 999, 1000, 1002, 1003, 1004, 1005, 1008, 1009, 1010, 1012, 1013, 1017, 1019, 1020, 1021, 1024, 1025, 1027, 1028, 1029, 1033, 1034, 1042, 1043, 1044, 1045, 1050, 1051, 1056, 1057, 1063, 1064, 1065, 1067, 1068, 1069, 1070, 1071, 1072]\n"
     ]
    }
   ],
   "source": [
    "print([i for i, x in enumerate(data[\"target\"]) if x == 1])"
   ]
  },
  {
   "cell_type": "code",
   "execution_count": 24,
   "metadata": {},
   "outputs": [
    {
     "name": "stdout",
     "output_type": "stream",
     "text": [
      "[0, 4, 7, 8, 9, 15, 16, 19, 22, 23, 24, 25, 26, 28, 30, 32, 33, 35, 36, 38, 39, 41, 45, 49, 50, 53, 57, 58, 59, 61, 63, 64, 66, 68, 69, 74, 75, 80, 83, 87, 89, 90, 92, 93, 94, 99, 102, 103, 105, 106, 110, 111, 112, 113, 114, 115, 116, 117, 118, 120, 121, 122, 123, 124, 131, 136, 137, 138, 140, 142, 144, 147, 148, 155, 156, 161, 162, 166, 172, 176, 177, 178, 182, 183, 184, 186, 188, 189, 190, 194, 197, 198, 199, 201, 204, 205, 206, 211, 214, 215, 220, 221, 232, 235, 236, 238, 239, 243, 244, 247, 248, 253, 255, 257, 258, 259, 261, 262, 264, 266, 267, 269, 273, 276, 277, 278, 279, 280, 281, 282, 284, 285, 286, 287, 291, 294, 295, 297, 298, 300, 301, 304, 305, 307, 309, 310, 316, 317, 320, 321, 326, 328, 330, 331, 332, 333, 336, 337, 338, 340, 341, 344, 347, 348, 351, 352, 353, 354, 355, 358, 360, 362, 363, 366, 368, 369, 370, 374, 378, 381, 387, 388, 389, 392, 398, 399, 400, 402, 403, 404, 405, 408, 409, 415, 419, 420, 422, 423, 424, 425, 427, 429, 430, 431, 432, 433, 434, 435, 437, 438, 442, 445, 458, 459, 460, 463, 464, 473, 474, 480, 489, 490, 491, 492, 493, 494, 495, 496, 498, 500, 502, 503, 506, 508, 510, 511, 512, 513, 516, 517, 520, 521, 525, 526, 529, 539, 541, 542, 545, 546, 549, 550, 551, 554, 557, 558, 559, 560, 562, 564, 565, 566, 567, 568, 570, 571, 574, 575, 576, 577, 580, 582, 583, 584, 585, 588, 590, 593, 594, 598, 600, 604, 606, 608, 610, 617, 620, 622, 623, 629, 630, 632, 636, 639, 641, 644, 645, 646, 647, 653, 654, 655, 659, 661, 662, 664, 667, 669, 670, 671, 672, 674, 676, 677, 678, 682, 686, 692, 695, 698, 700, 702, 704, 706, 707, 711, 715, 717, 718, 719, 721, 723, 724, 725, 731, 734, 735, 737, 738, 742, 743, 750, 751, 752, 757, 758, 759, 767, 768, 771, 772, 776, 777, 778, 779, 780, 783, 784, 786, 789, 792, 793, 794, 796, 800, 801, 802, 806, 808, 809, 811, 812, 813, 815, 818, 821, 824, 825, 829, 830, 834, 836, 838, 849, 850, 852, 853, 855, 859, 860, 863, 864, 866, 867, 869, 870, 871, 876, 878, 879, 882, 884, 887, 890, 893, 894, 895, 899, 900, 902, 903, 904, 914, 921, 926, 927, 929, 932, 938, 939, 941, 942, 943, 948, 950, 951, 953, 954, 958, 960, 962, 963, 964, 969, 970, 973, 976, 977, 981, 983, 984, 987, 991, 993, 995, 1001, 1006, 1007, 1011, 1014, 1015, 1016, 1018, 1022, 1023, 1026, 1030, 1031, 1032, 1035, 1036, 1037, 1038, 1039, 1040, 1041, 1046, 1047, 1048, 1049, 1052, 1053, 1054, 1055, 1058, 1059, 1060, 1061, 1062, 1066]\n"
     ]
    }
   ],
   "source": [
    "print([i for i, x in enumerate(data[\"target\"]) if x == 0])"
   ]
  },
  {
   "cell_type": "code",
   "execution_count": 27,
   "metadata": {},
   "outputs": [],
   "source": [
    "import numpy as np"
   ]
  },
  {
   "cell_type": "code",
   "execution_count": 25,
   "metadata": {},
   "outputs": [
    {
     "data": {
      "text/plain": [
       "array([0., 1., 1., ..., 0., 0., 0.])"
      ]
     },
     "execution_count": 25,
     "metadata": {},
     "output_type": "execute_result"
    }
   ],
   "source": [
    "x[504]"
   ]
  },
  {
   "cell_type": "code",
   "execution_count": 28,
   "metadata": {},
   "outputs": [
    {
     "data": {
      "text/plain": [
       "44.0"
      ]
     },
     "execution_count": 28,
     "metadata": {},
     "output_type": "execute_result"
    }
   ],
   "source": [
    "np.dot(x[504], x[542])"
   ]
  },
  {
   "cell_type": "code",
   "execution_count": 30,
   "metadata": {},
   "outputs": [
    {
     "name": "stdout",
     "output_type": "stream",
     "text": [
      "[0. 1. 1. ... 0. 0. 0.] [0. 1. 1. ... 0. 0. 0.]\n"
     ]
    }
   ],
   "source": [
    "print(x[504], x[542])"
   ]
  },
  {
   "cell_type": "code",
   "execution_count": 29,
   "metadata": {},
   "outputs": [
    {
     "data": {
      "text/plain": [
       "19.0"
      ]
     },
     "execution_count": 29,
     "metadata": {},
     "output_type": "execute_result"
    }
   ],
   "source": [
    "np.dot(x[540], x[543])"
   ]
  },
  {
   "cell_type": "markdown",
   "metadata": {},
   "source": [
    "## GloVe Word Embeddings"
   ]
  },
  {
   "cell_type": "code",
   "execution_count": 31,
   "metadata": {},
   "outputs": [],
   "source": [
    "import pickle\n",
    "import numpy as np\n",
    "import re\n",
    "import json"
   ]
  },
  {
   "cell_type": "code",
   "execution_count": 32,
   "metadata": {},
   "outputs": [],
   "source": [
    "vecs = np.load(\"glove_vectors_100d.npy\")\n",
    "vecs50 = np.load(\"glove_vectors_50d.npy\")"
   ]
  },
  {
   "cell_type": "code",
   "execution_count": 33,
   "metadata": {},
   "outputs": [],
   "source": [
    "with open('words.txt') as f:\n",
    "    content = f.readlines()\n",
    "words = [x.strip() for x in content]"
   ]
  },
  {
   "cell_type": "code",
   "execution_count": 34,
   "metadata": {},
   "outputs": [],
   "source": [
    "wordidx = json.load(open('wordsidx.txt'))"
   ]
  },
  {
   "cell_type": "code",
   "execution_count": 35,
   "metadata": {},
   "outputs": [
    {
     "data": {
      "text/plain": [
       "400000"
      ]
     },
     "execution_count": 35,
     "metadata": {},
     "output_type": "execute_result"
    }
   ],
   "source": [
    "len(words)"
   ]
  },
  {
   "cell_type": "code",
   "execution_count": 36,
   "metadata": {},
   "outputs": [
    {
     "data": {
      "text/plain": [
       "['the', ',', '.', 'of', 'to', 'and', 'in', 'a', '\"', \"'s\"]"
      ]
     },
     "execution_count": 36,
     "metadata": {},
     "output_type": "execute_result"
    }
   ],
   "source": [
    "words[:10]"
   ]
  },
  {
   "cell_type": "code",
   "execution_count": 37,
   "metadata": {},
   "outputs": [
    {
     "data": {
      "text/plain": [
       "numpy.ndarray"
      ]
     },
     "execution_count": 37,
     "metadata": {},
     "output_type": "execute_result"
    }
   ],
   "source": [
    "type(vecs)"
   ]
  },
  {
   "cell_type": "code",
   "execution_count": 38,
   "metadata": {},
   "outputs": [
    {
     "data": {
      "text/plain": [
       "'feminist'"
      ]
     },
     "execution_count": 38,
     "metadata": {},
     "output_type": "execute_result"
    }
   ],
   "source": [
    "words[11853]"
   ]
  },
  {
   "cell_type": "code",
   "execution_count": null,
   "metadata": {},
   "outputs": [],
   "source": [
    "vecs[11853]"
   ]
  },
  {
   "cell_type": "code",
   "execution_count": 39,
   "metadata": {},
   "outputs": [],
   "source": [
    "from scipy.spatial.distance import cosine as dist"
   ]
  },
  {
   "cell_type": "code",
   "execution_count": 40,
   "metadata": {},
   "outputs": [
    {
     "data": {
      "text/plain": [
       "0.27636247873306274"
      ]
     },
     "execution_count": 40,
     "metadata": {},
     "output_type": "execute_result"
    }
   ],
   "source": [
    "dist(vecs[wordidx[\"puppy\"]], vecs[wordidx[\"dog\"]])"
   ]
  },
  {
   "cell_type": "code",
   "execution_count": 41,
   "metadata": {},
   "outputs": [
    {
     "data": {
      "text/plain": [
       "0.9621107056736946"
      ]
     },
     "execution_count": 41,
     "metadata": {},
     "output_type": "execute_result"
    }
   ],
   "source": [
    "dist(vecs[wordidx[\"avalanche\"]], vecs[wordidx[\"antique\"]])"
   ]
  },
  {
   "cell_type": "code",
   "execution_count": null,
   "metadata": {},
   "outputs": [],
   "source": []
  },
  {
   "cell_type": "code",
   "execution_count": 42,
   "metadata": {},
   "outputs": [],
   "source": [
    "import plotly\n",
    "import plotly.graph_objs as go    \n",
    "from IPython.display import IFrame"
   ]
  },
  {
   "cell_type": "code",
   "execution_count": 43,
   "metadata": {},
   "outputs": [],
   "source": [
    "\n",
    "def plotly_2d(Y, cat_labels):\n",
    "    trace_dict = {}\n",
    "    for i, label in enumerate(cat_labels):\n",
    "        trace_dict[i] = go.Scatter(\n",
    "            x=Y[i*5:(i+1)*5, 0],\n",
    "            y=Y[i*5:(i+1)*5, 1],\n",
    "            mode='markers',\n",
    "            marker=dict(\n",
    "                size=8,\n",
    "                line=dict(\n",
    "                    color='rgba('+ str(i*40) + ',' + str(i*40) + ',' + str(i*40) + ', 0.14)',\n",
    "                    width=0.5\n",
    "                ),\n",
    "                opacity=0.8\n",
    "            ),\n",
    "            text = my_words[i*5:(i+1)*5],\n",
    "            name = label\n",
    "        )\n",
    "\n",
    "    data = [item for item in trace_dict.values()]\n",
    "    layout = go.Layout(\n",
    "        margin=dict(\n",
    "            l=0,\n",
    "            r=0,\n",
    "            b=0,\n",
    "            t=0\n",
    "        )\n",
    "    )\n",
    "\n",
    "    plotly.offline.plot({\n",
    "        \"data\": data,\n",
    "        \"layout\": layout\n",
    "    })"
   ]
  },
  {
   "cell_type": "code",
   "execution_count": 44,
   "metadata": {},
   "outputs": [],
   "source": [
    "def plotly_3d(Y, cat_labels):\n",
    "    trace_dict = {}\n",
    "    for i, label in enumerate(cat_labels):\n",
    "        trace_dict[i] = go.Scatter3d(\n",
    "            x=Y[i*5:(i+1)*5, 0],\n",
    "            y=Y[i*5:(i+1)*5, 1],\n",
    "            z=Y[i*5:(i+1)*5, 2],\n",
    "            mode='markers',\n",
    "            marker=dict(\n",
    "                size=8,\n",
    "                line=dict(\n",
    "                    color='rgba('+ str(i*40) + ',' + str(i*40) + ',' + str(i*40) + ', 0.14)',\n",
    "                    width=0.5\n",
    "                ),\n",
    "                opacity=0.8\n",
    "            ),\n",
    "            text = my_words[i*5:(i+1)*5],\n",
    "            name = label\n",
    "        )\n",
    "\n",
    "    data = [item for item in trace_dict.values()]\n",
    "    layout = go.Layout(\n",
    "        margin=dict(\n",
    "            l=0,\n",
    "            r=0,\n",
    "            b=0,\n",
    "            t=0\n",
    "        )\n",
    "    )\n",
    "\n",
    "    plotly.offline.plot({\n",
    "        \"data\": data,\n",
    "        \"layout\": layout\n",
    "    })"
   ]
  },
  {
   "cell_type": "code",
   "execution_count": 45,
   "metadata": {},
   "outputs": [],
   "source": [
    "categories = [\n",
    "              \"bugs\", \"music\", \n",
    "              \"pleasant\", \"unpleasant\", \n",
    "              \"science\", \"arts\"\n",
    "             ]"
   ]
  },
  {
   "cell_type": "code",
   "execution_count": 46,
   "metadata": {},
   "outputs": [],
   "source": [
    "my_words = [\n",
    "            \"maggot\", \"flea\", \"tarantula\", \"bedbug\", \"mosquito\", \n",
    "            \"violin\", \"cello\", \"flute\", \"harp\", \"mandolin\",\n",
    "            \"joy\", \"love\", \"peace\", \"pleasure\", \"wonderful\",\n",
    "            \"agony\", \"terrible\", \"horrible\", \"nasty\", \"failure\", \n",
    "            \"physics\", \"chemistry\", \"science\", \"technology\", \"engineering\",\n",
    "            \"poetry\", \"art\", \"literature\", \"dance\", \"symphony\",\n",
    "           ]\n"
   ]
  },
  {
   "cell_type": "code",
   "execution_count": 47,
   "metadata": {},
   "outputs": [],
   "source": [
    "X = np.array([wordidx[word] for word in my_words])"
   ]
  },
  {
   "cell_type": "code",
   "execution_count": 48,
   "metadata": {},
   "outputs": [
    {
     "data": {
      "text/plain": [
       "(30, 100)"
      ]
     },
     "execution_count": 48,
     "metadata": {},
     "output_type": "execute_result"
    }
   ],
   "source": [
    "vecs[X].shape"
   ]
  },
  {
   "cell_type": "code",
   "execution_count": 49,
   "metadata": {},
   "outputs": [
    {
     "data": {
      "text/plain": [
       "(10030, 100)"
      ]
     },
     "execution_count": 49,
     "metadata": {},
     "output_type": "execute_result"
    }
   ],
   "source": [
    "embeddings = np.concatenate((vecs[X], vecs[:10000,:]), axis=0); embeddings.shape"
   ]
  },
  {
   "cell_type": "code",
   "execution_count": 50,
   "metadata": {},
   "outputs": [],
   "source": [
    "from sklearn import decomposition"
   ]
  },
  {
   "cell_type": "code",
   "execution_count": 51,
   "metadata": {},
   "outputs": [
    {
     "data": {
      "text/html": [
       "\n",
       "        <iframe\n",
       "            width=\"600\"\n",
       "            height=\"400\"\n",
       "            src=\"temp-plot.html\"\n",
       "            frameborder=\"0\"\n",
       "            allowfullscreen\n",
       "        ></iframe>\n",
       "        "
      ],
      "text/plain": [
       "<IPython.lib.display.IFrame at 0x7f6eeb4d79b0>"
      ]
     },
     "execution_count": 51,
     "metadata": {},
     "output_type": "execute_result"
    }
   ],
   "source": [
    "pca = decomposition.PCA(n_components=3).fit(embeddings.T)\n",
    "components = pca.components_\n",
    "plotly_3d(components.T[:len(my_words),:], categories)\n",
    "IFrame('temp-plot.html', width=600, height=400)"
   ]
  },
  {
   "cell_type": "code",
   "execution_count": 52,
   "metadata": {},
   "outputs": [],
   "source": [
    "from sklearn.neighbors import NearestNeighbors"
   ]
  },
  {
   "cell_type": "code",
   "execution_count": 53,
   "metadata": {},
   "outputs": [
    {
     "data": {
      "text/plain": [
       "NearestNeighbors(algorithm='brute', leaf_size=30, metric='cosine',\n",
       "         metric_params=None, n_jobs=1, n_neighbors=10, p=2, radius=0.5)"
      ]
     },
     "execution_count": 53,
     "metadata": {},
     "output_type": "execute_result"
    }
   ],
   "source": [
    "neigh = NearestNeighbors(n_neighbors=10, radius=0.5, metric='cosine', algorithm='brute')\n",
    "neigh.fit(vecs)"
   ]
  },
  {
   "cell_type": "code",
   "execution_count": 54,
   "metadata": {},
   "outputs": [],
   "source": [
    "distances, indices = neigh.kneighbors([vecs[wordidx[\"intelligence\"]]])"
   ]
  },
  {
   "cell_type": "code",
   "execution_count": 55,
   "metadata": {},
   "outputs": [
    {
     "data": {
      "text/plain": [
       "[('intelligence', 1.1920929e-07),\n",
       " ('cia', 0.25781953),\n",
       " ('information', 0.27898037),\n",
       " ('security', 0.30368996),\n",
       " ('fbi', 0.30377108),\n",
       " ('military', 0.3065179),\n",
       " ('secret', 0.3106637),\n",
       " ('counterterrorism', 0.3237375),\n",
       " ('pentagon', 0.33488154),\n",
       " ('defense', 0.34354317)]"
      ]
     },
     "execution_count": 55,
     "metadata": {},
     "output_type": "execute_result"
    }
   ],
   "source": [
    "[(words[int(ind)], dist) for ind, dist in zip(list(indices[0]), list(distances[0]))]"
   ]
  },
  {
   "cell_type": "code",
   "execution_count": 56,
   "metadata": {},
   "outputs": [],
   "source": [
    "new_vec = vecs[wordidx[\"artificial\"]] + vecs[wordidx[\"intelligence\"]]"
   ]
  },
  {
   "cell_type": "code",
   "execution_count": 57,
   "metadata": {},
   "outputs": [
    {
     "data": {
      "text/plain": [
       "array([ 3.44600081e-02, -1.18469983e-01,  7.46029019e-01,  3.25609982e-01,\n",
       "        3.25583994e-01, -1.46993995e+00, -8.71460021e-01, -9.42110002e-01,\n",
       "        6.79129958e-02,  9.22033012e-01,  6.81050003e-01, -3.72929007e-01,\n",
       "        1.09686995e+00,  7.19560027e-01,  1.35152149e+00,  1.24931002e+00,\n",
       "        6.62050009e-01,  1.90050006e-01, -2.70690024e-01, -4.43699956e-02,\n",
       "       -1.23197997e+00,  1.74419999e-01,  7.57689953e-01, -9.17719960e-01,\n",
       "       -1.21841693e+00,  6.95879042e-01, -1.96550012e-01, -4.15010005e-01,\n",
       "       -3.35797995e-01,  5.45199990e-01,  5.88955045e-01, -2.98979990e-02,\n",
       "       -9.74384010e-01, -8.93670022e-01,  2.28260010e-01, -2.09187999e-01,\n",
       "       -1.37952995e+00,  1.78108001e+00,  2.26889998e-01,  4.69969988e-01,\n",
       "       -3.04547012e-01, -1.57320023e-01, -4.78008002e-01,  3.07079971e-01,\n",
       "        4.20230001e-01, -4.43358004e-01,  1.60180002e-01,  1.44280016e-01,\n",
       "       -9.52759981e-01, -5.56486011e-01,  7.53669977e-01,  1.82048991e-01,\n",
       "        1.40083003e+00,  1.89670002e+00,  5.95049977e-01, -3.00720000e+00,\n",
       "        6.81060016e-01, -2.55712092e-01,  2.02169991e+00,  7.82469988e-01,\n",
       "        4.25089985e-01,  1.36150002e+00,  5.90244055e-01, -1.31160021e-01,\n",
       "        9.34410036e-01, -5.37660003e-01, -3.98775995e-01, -6.41479969e-01,\n",
       "        6.52729988e-01,  5.11700034e-01,  7.31543005e-01,  1.39559984e-01,\n",
       "        3.78480017e-01, -6.40280008e-01, -9.39500034e-02,  1.07564002e-01,\n",
       "        6.19660020e-01,  2.53746003e-01, -1.43460000e+00,  1.16901994e+00,\n",
       "        1.69314003e+00,  1.45779997e-01, -5.98142982e-01,  8.19539964e-01,\n",
       "       -3.19029999e+00,  1.24286008e+00,  2.14809990e+00,  1.60039997e+00,\n",
       "        2.01388001e-01, -2.12130010e-01,  3.69750023e-01, -1.00599974e-03,\n",
       "       -6.27959967e-01,  2.86857992e-01,  3.11883807e-01, -1.09290004e-01,\n",
       "       -6.34110034e-01, -1.78041005e+00,  5.85669994e-01,  3.70193988e-01],\n",
       "      dtype=float32)"
      ]
     },
     "execution_count": 57,
     "metadata": {},
     "output_type": "execute_result"
    }
   ],
   "source": [
    "\n",
    "new_vec"
   ]
  },
  {
   "cell_type": "code",
   "execution_count": 58,
   "metadata": {},
   "outputs": [],
   "source": [
    "distances, indices = neigh.kneighbors([new_vec])"
   ]
  },
  {
   "cell_type": "code",
   "execution_count": 59,
   "metadata": {},
   "outputs": [
    {
     "data": {
      "text/plain": [
       "[('intelligence', 0.1883161),\n",
       " ('artificial', 0.25617576),\n",
       " ('information', 0.3256532),\n",
       " ('knowledge', 0.33641893),\n",
       " ('secret', 0.36480355),\n",
       " ('human', 0.36726683),\n",
       " ('biological', 0.37090683),\n",
       " ('using', 0.37736303),\n",
       " ('scientific', 0.38513905),\n",
       " ('communication', 0.38691515)]"
      ]
     },
     "execution_count": 59,
     "metadata": {},
     "output_type": "execute_result"
    }
   ],
   "source": [
    "[(words[int(ind)], dist) for ind, dist in zip(list(indices[0]), list(distances[0]))]"
   ]
  },
  {
   "cell_type": "code",
   "execution_count": 60,
   "metadata": {},
   "outputs": [
    {
     "data": {
      "text/plain": [
       "[('doctor', 0.13456279),\n",
       " ('nurse', 0.22582489),\n",
       " ('mother', 0.27610385),\n",
       " ('woman', 0.29901665),\n",
       " ('pregnant', 0.32096934),\n",
       " ('girl', 0.3324105),\n",
       " ('patient', 0.34357917),\n",
       " ('she', 0.35723114),\n",
       " ('child', 0.3631252),\n",
       " ('herself', 0.36338794)]"
      ]
     },
     "execution_count": 60,
     "metadata": {},
     "output_type": "execute_result"
    }
   ],
   "source": [
    "new_vec = vecs[wordidx[\"doctor\"]] - vecs[wordidx[\"he\"]] + vecs[wordidx[\"she\"]]\n",
    "distances, indices = neigh.kneighbors([new_vec])\n",
    "[(words[int(ind)], dist) for ind, dist in zip(list(indices[0]), list(distances[0]))]"
   ]
  },
  {
   "cell_type": "code",
   "execution_count": null,
   "metadata": {},
   "outputs": [],
   "source": [
    "new_vec = vecs[wordidx[\"doctor\"]] - vecs[wordidx[\"she\"]] + vecs[wordidx[\"he\"]]\n",
    "distances, indices = neigh.kneighbors([new_vec])\n",
    "[(words[int(ind)], dist) for ind, dist in zip(list(indices[0]), list(distances[0]))]"
   ]
  },
  {
   "cell_type": "code",
   "execution_count": null,
   "metadata": {},
   "outputs": [],
   "source": [
    "from keras.datasets import imdb\n",
    "from keras.utils.data_utils import get_file\n",
    "idx = imdb.get_word_index()"
   ]
  },
  {
   "cell_type": "code",
   "execution_count": null,
   "metadata": {},
   "outputs": [],
   "source": [
    "import keras.backend as K\n",
    "\n",
    "def limit_mem():\n",
    "    K.get_session().close()\n",
    "    cfg = K.tf.ConfigProto()\n",
    "    cfg.gpu_options.allow_growth = True\n",
    "    cfg.gpu_options.per_process_gpu_memory_fraction = 0.6\n",
    "    K.set_session(K.tf.Session(config=cfg))\n",
    "    \n",
    "limit_mem()"
   ]
  },
  {
   "cell_type": "code",
   "execution_count": null,
   "metadata": {},
   "outputs": [],
   "source": [
    "idx_arr = sorted(idx, key=idx.get)\n",
    "idx_arr[:10]"
   ]
  },
  {
   "cell_type": "code",
   "execution_count": null,
   "metadata": {},
   "outputs": [],
   "source": [
    "idx2word = {v: k for k, v in idx.items()}"
   ]
  },
  {
   "cell_type": "code",
   "execution_count": null,
   "metadata": {},
   "outputs": [],
   "source": [
    "path = get_file('imdb_full.pkl',\n",
    "                origin='https://s3.amazonaws.com/text-datasets/imdb_full.pkl',\n",
    "                md5_hash='d091312047c43cf9e4e38fef92437263')\n",
    "f = open(path, 'rb')\n",
    "(x_train, labels_train), (x_test, labels_test) = pickle.load(f)"
   ]
  },
  {
   "cell_type": "code",
   "execution_count": null,
   "metadata": {},
   "outputs": [],
   "source": [
    "len(x_train)"
   ]
  },
  {
   "cell_type": "code",
   "execution_count": null,
   "metadata": {},
   "outputs": [],
   "source": [
    "\n",
    "', '.join(map(str, x_train[0]))"
   ]
  },
  {
   "cell_type": "code",
   "execution_count": null,
   "metadata": {},
   "outputs": [],
   "source": [
    "idx2word[23022]"
   ]
  },
  {
   "cell_type": "code",
   "execution_count": null,
   "metadata": {},
   "outputs": [],
   "source": [
    "' '.join([idx2word[o] for o in x_train[0]])"
   ]
  },
  {
   "cell_type": "code",
   "execution_count": null,
   "metadata": {},
   "outputs": [],
   "source": [
    "labels_train[:10]"
   ]
  },
  {
   "cell_type": "code",
   "execution_count": null,
   "metadata": {},
   "outputs": [],
   "source": [
    "vocab_size = 5000\n",
    "\n",
    "trn = [np.array([i if i<vocab_size-1 else vocab_size-1 for i in s]) for s in x_train]\n",
    "test = [np.array([i if i<vocab_size-1 else vocab_size-1 for i in s]) for s in x_test]"
   ]
  },
  {
   "cell_type": "code",
   "execution_count": null,
   "metadata": {},
   "outputs": [],
   "source": [
    "lens = np.array([len(review) for review in trn])\n",
    "(lens.max(), lens.min(), lens.mean())"
   ]
  },
  {
   "cell_type": "code",
   "execution_count": null,
   "metadata": {},
   "outputs": [],
   "source": [
    "from keras.preprocessing import sequence\n",
    "seq_len = 500\n",
    "\n",
    "trn = sequence.pad_sequences(trn, maxlen=seq_len, value=0)\n",
    "test = sequence.pad_sequences(test, maxlen=seq_len, value=0)\n",
    "trn.shape"
   ]
  },
  {
   "cell_type": "code",
   "execution_count": null,
   "metadata": {},
   "outputs": [],
   "source": [
    "from keras.models import Sequential\n",
    "from keras.layers.embeddings import Embedding\n",
    "from keras.layers.core import Flatten, Dense, Dropout\n",
    "from keras.layers.convolutional import Convolution1D, MaxPooling1D\n",
    "from keras.optimizers import Adam"
   ]
  },
  {
   "cell_type": "code",
   "execution_count": null,
   "metadata": {},
   "outputs": [],
   "source": [
    "conv1 = Sequential([\n",
    "    Embedding(vocab_size, 50, input_length=seq_len, dropout=0.4),\n",
    "    Convolution1D(64, 5, border_mode='same', activation='relu'),\n",
    "    Dropout(0.2),\n",
    "    MaxPooling1D(),\n",
    "    Flatten(),\n",
    "    Dense(100, activation='relu'),\n",
    "    Dropout(0.5),\n",
    "    Dense(1, activation='sigmoid')])\n",
    "\n",
    "conv1.compile(loss='binary_crossentropy', optimizer=Adam(), metrics=['accuracy'])\n",
    "conv1.fit(trn, labels_train, validation_data=(test, labels_test), nb_epoch=4, batch_size=64)"
   ]
  },
  {
   "cell_type": "code",
   "execution_count": null,
   "metadata": {},
   "outputs": [],
   "source": [
    "conv1.optimizer.lr=1e-4\n",
    "conv1.fit(trn, labels_train, validation_data=(test, labels_test), nb_epoch=4, batch_size=64)"
   ]
  },
  {
   "cell_type": "code",
   "execution_count": null,
   "metadata": {},
   "outputs": [],
   "source": [
    "def create_emb():\n",
    "    n_fact = vecs50.shape[1]\n",
    "    emb = np.zeros((vocab_size, n_fact))\n",
    "\n",
    "    for i in range(1,len(emb)):\n",
    "        word = idx2word[i]\n",
    "        if word and re.match(r\"^[a-zA-Z0-9\\-]*$\", word):\n",
    "            src_idx = wordidx[word]\n",
    "            emb[i] = vecs50[src_idx]\n",
    "        else:\n",
    "            # If we can't find the word in glove, randomly initialize\n",
    "            emb[i] = np.random.normal(scale=0.6, size=(n_fact,))\n",
    "\n",
    "    # This is our \"rare word\" id - we want to randomly initialize\n",
    "    emb[-1] = np.random.normal(scale=0.6, size=(n_fact,))\n",
    "    emb/=3\n",
    "    return emb"
   ]
  },
  {
   "cell_type": "code",
   "execution_count": null,
   "metadata": {},
   "outputs": [],
   "source": [
    "emb = create_emb()\n",
    "model = Sequential([\n",
    "    Embedding(vocab_size, 50, input_length=seq_len, dropout=0.4, weights=[emb]),\n",
    "    Convolution1D(64, 5, border_mode='same', activation='relu'),\n",
    "    Dropout(0.2),\n",
    "    MaxPooling1D(),\n",
    "    Flatten(),\n",
    "    Dense(100, activation='relu'),\n",
    "    Dropout(0.5),\n",
    "    Dense(1, activation='sigmoid')])\n",
    "model.compile(loss='binary_crossentropy', optimizer=Adam(), metrics=['accuracy'])\n",
    "model.fit(trn, labels_train, validation_data=(test, labels_test), nb_epoch=4, batch_size=64)"
   ]
  },
  {
   "cell_type": "code",
   "execution_count": null,
   "metadata": {},
   "outputs": [],
   "source": [
    "model.optimizer.lr=1e-4\n",
    "model.fit(trn, labels_train, validation_data=(test, labels_test), nb_epoch=4, batch_size=64)"
   ]
  }
 ],
 "metadata": {
  "kernelspec": {
   "display_name": "Python 3",
   "language": "python",
   "name": "python3"
  },
  "language_info": {
   "codemirror_mode": {
    "name": "ipython",
    "version": 3
   },
   "file_extension": ".py",
   "mimetype": "text/x-python",
   "name": "python",
   "nbconvert_exporter": "python",
   "pygments_lexer": "ipython3",
   "version": "3.6.5"
  }
 },
 "nbformat": 4,
 "nbformat_minor": 2
}
