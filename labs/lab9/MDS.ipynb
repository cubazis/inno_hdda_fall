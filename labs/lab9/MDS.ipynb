{
 "cells": [
  {
   "cell_type": "code",
   "execution_count": 1,
   "metadata": {},
   "outputs": [],
   "source": [
    "from __future__ import division\n",
    " \n",
    "import numpy as np\n",
    " \n",
    "def cmdscale(D):\n",
    "    \"\"\"                                                                                       \n",
    "    Classical multidimensional scaling (MDS)                                                  \n",
    "                                                                                               \n",
    "    Parameters                                                                                \n",
    "    ----------                                                                                \n",
    "    D : (n, n) array                                                                          \n",
    "        Symmetric distance matrix.                                                            \n",
    "                                                                                               \n",
    "    Returns                                                                                   \n",
    "    -------                                                                                   \n",
    "    Y : (n, p) array                                                                          \n",
    "        Configuration matrix. Each column represents a dimension. Only the                    \n",
    "        p dimensions corresponding to positive eigenvalues of B are returned.                 \n",
    "        Note that each dimension is only determined up to an overall sign,                    \n",
    "        corresponding to a reflection.                                                        \n",
    "                                                                                               \n",
    "    e : (n,) array                                                                            \n",
    "        Eigenvalues of B.                                                                     \n",
    "                                                                                               \n",
    "    \"\"\"\n",
    "    # Number of points                                                                        \n",
    "    n = len(D)\n",
    " \n",
    "    # Centering matrix                                                                        \n",
    "    H = np.eye(n) - np.ones((n, n))/n\n",
    " \n",
    "    # YY^T                                                                                    \n",
    "    B = -H.dot(D**2).dot(H)/2\n",
    " \n",
    "    # Diagonalize                                                                             \n",
    "    evals, evecs = np.linalg.eigh(B)\n",
    " \n",
    "    # Sort by eigenvalue in descending order                                                  \n",
    "    idx   = np.argsort(evals)[::-1]\n",
    "    evals = evals[idx]\n",
    "    evecs = evecs[:,idx]\n",
    " \n",
    "    # Compute the coordinates using positive-eigenvalued components only                      \n",
    "    w, = np.where(evals > 0)\n",
    "    L  = np.diag(np.sqrt(evals[w]))\n",
    "    V  = evecs[:,w]\n",
    "    Y  = V.dot(L)\n",
    " \n",
    "    return Y, evals"
   ]
  },
  {
   "cell_type": "code",
   "execution_count": 2,
   "metadata": {},
   "outputs": [],
   "source": [
    "import numpy as np"
   ]
  },
  {
   "cell_type": "code",
   "execution_count": 3,
   "metadata": {},
   "outputs": [
    {
     "data": {
      "text/plain": [
       "array([[3, 4, 4, 6, 1],\n",
       "       [5, 1, 1, 7, 3],\n",
       "       [6, 2, 0, 2, 6],\n",
       "       [1, 1, 1, 0, 3],\n",
       "       [4, 7, 3, 6, 2],\n",
       "       [2, 2, 5, 1, 0],\n",
       "       [0, 4, 1, 1, 1],\n",
       "       [0, 6, 4, 3, 5],\n",
       "       [7, 6, 5, 1, 4],\n",
       "       [2, 1, 4, 3, 1]])"
      ]
     },
     "execution_count": 3,
     "metadata": {},
     "output_type": "execute_result"
    }
   ],
   "source": [
    "A = np.array([\n",
    "    [3, 4, 4, 6, 1],\n",
    "    [5, 1, 1, 7, 3],\n",
    "    [6, 2, 0, 2, 6],\n",
    "    [1, 1, 1, 0, 3],\n",
    "    [4, 7, 3, 6, 2],\n",
    "    [2, 2, 5, 1, 0],\n",
    "    [0, 4, 1, 1, 1],\n",
    "    [0, 6, 4, 3, 5],\n",
    "    [7, 6, 5, 1, 4],\n",
    "    [2, 1, 4, 3, 1]])\n",
    "A"
   ]
  },
  {
   "cell_type": "code",
   "execution_count": 5,
   "metadata": {},
   "outputs": [
    {
     "data": {
      "text/plain": [
       "array([[0.        , 5.19615242, 8.36660027, 7.87400787, 3.46410162,\n",
       "        5.65685425, 6.55743852, 6.164414  , 7.41619849, 4.35889894],\n",
       "       [5.19615242, 0.        , 6.08276253, 8.06225775, 6.55743852,\n",
       "        8.42614977, 8.60232527, 8.88819442, 9.05538514, 6.164414  ],\n",
       "       [8.36660027, 6.08276253, 0.        , 6.32455532, 8.36660027,\n",
       "        8.83176087, 8.18535277, 8.36660027, 6.8556546 , 7.68114575],\n",
       "       [7.87400787, 8.06225775, 6.32455532, 0.        , 9.2736185 ,\n",
       "        5.29150262, 3.87298335, 6.92820323, 8.88819442, 4.79583152],\n",
       "       [3.46410162, 6.55743852, 8.36660027, 9.2736185 , 0.        ,\n",
       "        7.87400787, 7.41619849, 6.        , 6.55743852, 7.14142843],\n",
       "       [5.65685425, 8.42614977, 8.83176087, 5.29150262, 7.87400787,\n",
       "        0.        , 5.        , 7.07106781, 7.54983444, 2.64575131],\n",
       "       [6.55743852, 8.60232527, 8.18535277, 3.87298335, 7.41619849,\n",
       "        5.        , 0.        , 5.74456265, 8.83176087, 5.09901951],\n",
       "       [6.164414  , 8.88819442, 8.36660027, 6.92820323, 6.        ,\n",
       "        7.07106781, 5.74456265, 0.        , 7.41619849, 6.70820393],\n",
       "       [7.41619849, 9.05538514, 6.8556546 , 8.88819442, 6.55743852,\n",
       "        7.54983444, 8.83176087, 7.41619849, 0.        , 8.        ],\n",
       "       [4.35889894, 6.164414  , 7.68114575, 4.79583152, 7.14142843,\n",
       "        2.64575131, 5.09901951, 6.70820393, 8.        , 0.        ]])"
      ]
     },
     "execution_count": 5,
     "metadata": {},
     "output_type": "execute_result"
    }
   ],
   "source": [
    "from scipy.spatial import distance_matrix\n",
    "D = distance_matrix(A, A)\n",
    "D"
   ]
  },
  {
   "cell_type": "code",
   "execution_count": 6,
   "metadata": {},
   "outputs": [
    {
     "data": {
      "text/plain": [
       "array([[0.  , 5.2 , 8.37, 7.87, 3.46, 5.66, 6.56, 6.16, 7.42, 4.36],\n",
       "       [5.2 , 0.  , 6.08, 8.06, 6.56, 8.43, 8.6 , 8.89, 9.06, 6.16],\n",
       "       [8.37, 6.08, 0.  , 6.32, 8.37, 8.83, 8.19, 8.37, 6.86, 7.68],\n",
       "       [7.87, 8.06, 6.32, 0.  , 9.27, 5.29, 3.87, 6.93, 8.89, 4.8 ],\n",
       "       [3.46, 6.56, 8.37, 9.27, 0.  , 7.87, 7.42, 6.  , 6.56, 7.14],\n",
       "       [5.66, 8.43, 8.83, 5.29, 7.87, 0.  , 5.  , 7.07, 7.55, 2.65],\n",
       "       [6.56, 8.6 , 8.19, 3.87, 7.42, 5.  , 0.  , 5.74, 8.83, 5.1 ],\n",
       "       [6.16, 8.89, 8.37, 6.93, 6.  , 7.07, 5.74, 0.  , 7.42, 6.71],\n",
       "       [7.42, 9.06, 6.86, 8.89, 6.56, 7.55, 8.83, 7.42, 0.  , 8.  ],\n",
       "       [4.36, 6.16, 7.68, 4.8 , 7.14, 2.65, 5.1 , 6.71, 8.  , 0.  ]])"
      ]
     },
     "execution_count": 6,
     "metadata": {},
     "output_type": "execute_result"
    }
   ],
   "source": [
    "np.round(D, 2)"
   ]
  },
  {
   "cell_type": "code",
   "execution_count": 7,
   "metadata": {},
   "outputs": [
    {
     "data": {
      "text/plain": [
       "(array([[-1.60383248e+00,  2.38060903e+00,  2.23010920e+00,\n",
       "         -3.65685587e-01,  1.15364762e-01,  9.25598690e-08,\n",
       "          1.66891290e-08,  9.55906964e-09],\n",
       "        [-2.82463766e+00, -2.30937202e+00,  3.95237825e+00,\n",
       "          3.41918457e-01,  3.31694049e-01, -6.49184522e-08,\n",
       "          6.61379509e-09,  1.29296467e-08],\n",
       "        [-1.69082720e+00, -5.13970089e+00, -1.28803060e+00,\n",
       "          6.50322742e-01, -5.13389655e-02,  3.95253949e-08,\n",
       "          4.92760269e-08,  4.34080773e-09],\n",
       "        [ 3.95277192e+00, -2.43233961e+00, -3.83374630e-01,\n",
       "          6.86399477e-01, -3.46093286e-02,  1.88054816e-10,\n",
       "         -2.88571420e-10, -4.78931204e-09],\n",
       "        [-3.59848941e+00,  2.75538195e+00,  2.55139346e-01,\n",
       "          1.07837408e+00, -1.26125237e+00, -2.84725890e-08,\n",
       "          3.08362988e-08, -6.78688059e-09],\n",
       "        [ 2.95203563e+00,  1.35475175e+00,  1.89902742e-01,\n",
       "         -2.82112202e+00,  1.23858133e-01, -3.02049485e-08,\n",
       "          6.12199058e-08, -7.17072638e-09],\n",
       "        [ 3.46899277e+00,  7.64110684e-01, -3.01653106e-01,\n",
       "          1.63691661e+00, -1.94209512e+00, -7.11093216e-09,\n",
       "          8.55864681e-09,  2.41706129e-08],\n",
       "        [ 3.54523510e-01,  2.31408566e+00, -2.21617716e+00,\n",
       "          2.92401163e+00,  2.00450379e+00, -1.82335276e-08,\n",
       "          2.35526021e-08,  9.10064225e-09],\n",
       "        [-2.93623233e+00, -1.27959680e-02, -4.31173854e+00,\n",
       "         -2.51227428e+00, -1.89115576e-01, -1.64348834e-08,\n",
       "         -9.46797708e-09,  1.80312546e-08],\n",
       "        [ 1.92569524e+00,  3.25269410e-01,  1.87344449e+00,\n",
       "         -1.61886112e+00,  9.02990623e-01,  3.89375820e-10,\n",
       "         -2.95644851e-09,  2.11554392e-08]]),\n",
       " array([ 7.51871596e+01,  5.88056031e+01,  4.96051582e+01,  3.04278916e+01,\n",
       "         1.03741875e+01,  1.67203381e-14,  8.17559228e-15,  1.83753173e-15,\n",
       "        -4.60198013e-15, -6.37412130e-15]))"
      ]
     },
     "execution_count": 7,
     "metadata": {},
     "output_type": "execute_result"
    }
   ],
   "source": [
    "res = cmdscale(D)\n",
    "res"
   ]
  },
  {
   "cell_type": "code",
   "execution_count": 8,
   "metadata": {},
   "outputs": [
    {
     "data": {
      "text/plain": [
       "array([[-1.6 ,  2.38,  2.23, -0.37,  0.12,  0.  ,  0.  ,  0.  ],\n",
       "       [-2.82, -2.31,  3.95,  0.34,  0.33, -0.  ,  0.  ,  0.  ],\n",
       "       [-1.69, -5.14, -1.29,  0.65, -0.05,  0.  ,  0.  ,  0.  ],\n",
       "       [ 3.95, -2.43, -0.38,  0.69, -0.03,  0.  , -0.  , -0.  ],\n",
       "       [-3.6 ,  2.76,  0.26,  1.08, -1.26, -0.  ,  0.  , -0.  ],\n",
       "       [ 2.95,  1.35,  0.19, -2.82,  0.12, -0.  ,  0.  , -0.  ],\n",
       "       [ 3.47,  0.76, -0.3 ,  1.64, -1.94, -0.  ,  0.  ,  0.  ],\n",
       "       [ 0.35,  2.31, -2.22,  2.92,  2.  , -0.  ,  0.  ,  0.  ],\n",
       "       [-2.94, -0.01, -4.31, -2.51, -0.19, -0.  , -0.  ,  0.  ],\n",
       "       [ 1.93,  0.33,  1.87, -1.62,  0.9 ,  0.  , -0.  ,  0.  ]])"
      ]
     },
     "execution_count": 8,
     "metadata": {},
     "output_type": "execute_result"
    }
   ],
   "source": [
    "#points\n",
    "np.round(res[0], 2)"
   ]
  },
  {
   "cell_type": "code",
   "execution_count": 9,
   "metadata": {},
   "outputs": [
    {
     "data": {
      "text/plain": [
       "array([75.19, 58.81, 49.61, 30.43, 10.37,  0.  ,  0.  ,  0.  , -0.  ,\n",
       "       -0.  ])"
      ]
     },
     "execution_count": 9,
     "metadata": {},
     "output_type": "execute_result"
    }
   ],
   "source": [
    "#eigenvalues\n",
    "np.round(res[1], 2)"
   ]
  },
  {
   "cell_type": "code",
   "execution_count": 10,
   "metadata": {},
   "outputs": [
    {
     "data": {
      "text/plain": [
       "(10, 8)"
      ]
     },
     "execution_count": 10,
     "metadata": {},
     "output_type": "execute_result"
    }
   ],
   "source": [
    "A1 = res[0]\n",
    "A1.shape"
   ]
  },
  {
   "cell_type": "code",
   "execution_count": 11,
   "metadata": {},
   "outputs": [
    {
     "data": {
      "text/plain": [
       "array([[-1.60383248,  2.38060903,  2.2301092 , -0.36568559,  0.11536476],\n",
       "       [-2.82463766, -2.30937202,  3.95237825,  0.34191846,  0.33169405],\n",
       "       [-1.6908272 , -5.13970089, -1.2880306 ,  0.65032274, -0.05133897],\n",
       "       [ 3.95277192, -2.43233961, -0.38337463,  0.68639948, -0.03460933],\n",
       "       [-3.59848941,  2.75538195,  0.25513935,  1.07837408, -1.26125237],\n",
       "       [ 2.95203563,  1.35475175,  0.18990274, -2.82112202,  0.12385813],\n",
       "       [ 3.46899277,  0.76411068, -0.30165311,  1.63691661, -1.94209512],\n",
       "       [ 0.35452351,  2.31408566, -2.21617716,  2.92401163,  2.00450379],\n",
       "       [-2.93623233, -0.01279597, -4.31173854, -2.51227428, -0.18911558],\n",
       "       [ 1.92569524,  0.32526941,  1.87344449, -1.61886112,  0.90299062]])"
      ]
     },
     "execution_count": 11,
     "metadata": {},
     "output_type": "execute_result"
    }
   ],
   "source": [
    "A2 = A1[:, :5]\n",
    "A2"
   ]
  },
  {
   "cell_type": "code",
   "execution_count": 17,
   "metadata": {},
   "outputs": [
    {
     "data": {
      "text/plain": [
       "array([[-1.6,  2.4,  2.2, -0.4,  0.1,  0. ,  0. ,  0. ,  0. ,  0. ],\n",
       "       [-2.8, -2.3,  4. ,  0.3,  0.3,  0. ,  0. ,  0. ,  0. ,  0. ],\n",
       "       [-1.7, -5.1, -1.3,  0.7, -0.1,  0. ,  0. ,  0. ,  0. ,  0. ],\n",
       "       [ 4. , -2.4, -0.4,  0.7, -0. ,  0. ,  0. ,  0. ,  0. ,  0. ],\n",
       "       [-3.6,  2.8,  0.3,  1.1, -1.3,  0. ,  0. ,  0. ,  0. ,  0. ],\n",
       "       [ 3. ,  1.4,  0.2, -2.8,  0.1,  0. ,  0. ,  0. ,  0. ,  0. ],\n",
       "       [ 3.5,  0.8, -0.3,  1.6, -1.9,  0. ,  0. ,  0. ,  0. ,  0. ],\n",
       "       [ 0.4,  2.3, -2.2,  2.9,  2. ,  0. ,  0. ,  0. ,  0. ,  0. ],\n",
       "       [-2.9, -0. , -4.3, -2.5, -0.2,  0. ,  0. ,  0. ,  0. ,  0. ],\n",
       "       [ 1.9,  0.3,  1.9, -1.6,  0.9,  0. ,  0. ,  0. ,  0. ,  0. ]])"
      ]
     },
     "execution_count": 17,
     "metadata": {},
     "output_type": "execute_result"
    }
   ],
   "source": [
    "z = np.zeros((10, 5))\n",
    "z\n",
    "A3 = np.column_stack((A2,z))\n",
    "A3.shape\n",
    "np.round(A3, 1)"
   ]
  },
  {
   "cell_type": "code",
   "execution_count": 13,
   "metadata": {},
   "outputs": [
    {
     "data": {
      "text/plain": [
       "(10, 10)"
      ]
     },
     "execution_count": 13,
     "metadata": {},
     "output_type": "execute_result"
    }
   ],
   "source": [
    "D.shape"
   ]
  },
  {
   "cell_type": "code",
   "execution_count": 14,
   "metadata": {},
   "outputs": [
    {
     "data": {
      "text/plain": [
       "array([[0.00000000e+00, 8.88178420e-16, 3.55271368e-15, 2.66453526e-15,\n",
       "        3.10862447e-15, 8.88178420e-16, 1.77635684e-15, 0.00000000e+00,\n",
       "        8.88178420e-16, 8.88178420e-16],\n",
       "       [8.88178420e-16, 0.00000000e+00, 3.55271368e-15, 5.32907052e-15,\n",
       "        8.88178420e-16, 5.32907052e-15, 3.55271368e-15, 1.77635684e-15,\n",
       "        3.55271368e-15, 3.55271368e-15],\n",
       "       [3.55271368e-15, 3.55271368e-15, 0.00000000e+00, 4.44089210e-15,\n",
       "        3.55271368e-15, 3.55271368e-15, 3.55271368e-15, 3.55271368e-15,\n",
       "        1.77635684e-15, 3.55271368e-15],\n",
       "       [2.66453526e-15, 5.32907052e-15, 4.44089210e-15, 0.00000000e+00,\n",
       "        7.10542736e-15, 8.88178420e-16, 4.44089210e-16, 1.77635684e-15,\n",
       "        1.77635684e-15, 2.66453526e-15],\n",
       "       [3.10862447e-15, 8.88178420e-16, 3.55271368e-15, 7.10542736e-15,\n",
       "        0.00000000e+00, 5.32907052e-15, 3.55271368e-15, 3.55271368e-15,\n",
       "        1.77635684e-15, 2.66453526e-15],\n",
       "       [8.88178420e-16, 5.32907052e-15, 3.55271368e-15, 8.88178420e-16,\n",
       "        5.32907052e-15, 0.00000000e+00, 0.00000000e+00, 0.00000000e+00,\n",
       "        1.77635684e-15, 1.33226763e-15],\n",
       "       [1.77635684e-15, 3.55271368e-15, 3.55271368e-15, 4.44089210e-16,\n",
       "        3.55271368e-15, 0.00000000e+00, 0.00000000e+00, 2.66453526e-15,\n",
       "        0.00000000e+00, 0.00000000e+00],\n",
       "       [0.00000000e+00, 1.77635684e-15, 3.55271368e-15, 1.77635684e-15,\n",
       "        3.55271368e-15, 0.00000000e+00, 2.66453526e-15, 0.00000000e+00,\n",
       "        8.88178420e-16, 8.88178420e-16],\n",
       "       [8.88178420e-16, 3.55271368e-15, 1.77635684e-15, 1.77635684e-15,\n",
       "        1.77635684e-15, 1.77635684e-15, 0.00000000e+00, 8.88178420e-16,\n",
       "        0.00000000e+00, 8.88178420e-16],\n",
       "       [8.88178420e-16, 3.55271368e-15, 3.55271368e-15, 2.66453526e-15,\n",
       "        2.66453526e-15, 1.33226763e-15, 0.00000000e+00, 8.88178420e-16,\n",
       "        8.88178420e-16, 0.00000000e+00]])"
      ]
     },
     "execution_count": 14,
     "metadata": {},
     "output_type": "execute_result"
    }
   ],
   "source": [
    "res1 = D - distance_matrix(A3, A3)\n",
    "np.abs(res1)"
   ]
  },
  {
   "cell_type": "code",
   "execution_count": 18,
   "metadata": {},
   "outputs": [
    {
     "data": {
      "text/plain": [
       "array([[0., 0., 0., 0., 0., 0., 0., 0., 0., 0.],\n",
       "       [0., 0., 0., 0., 0., 0., 0., 0., 0., 0.],\n",
       "       [0., 0., 0., 0., 0., 0., 0., 0., 0., 0.],\n",
       "       [0., 0., 0., 0., 0., 0., 0., 0., 0., 0.],\n",
       "       [0., 0., 0., 0., 0., 0., 0., 0., 0., 0.],\n",
       "       [0., 0., 0., 0., 0., 0., 0., 0., 0., 0.],\n",
       "       [0., 0., 0., 0., 0., 0., 0., 0., 0., 0.],\n",
       "       [0., 0., 0., 0., 0., 0., 0., 0., 0., 0.],\n",
       "       [0., 0., 0., 0., 0., 0., 0., 0., 0., 0.],\n",
       "       [0., 0., 0., 0., 0., 0., 0., 0., 0., 0.]])"
      ]
     },
     "execution_count": 18,
     "metadata": {},
     "output_type": "execute_result"
    }
   ],
   "source": [
    "np.round(np.abs(res1), 2)"
   ]
  },
  {
   "cell_type": "code",
   "execution_count": 19,
   "metadata": {},
   "outputs": [
    {
     "data": {
      "text/plain": [
       "7.105427357601002e-15"
      ]
     },
     "execution_count": 19,
     "metadata": {},
     "output_type": "execute_result"
    }
   ],
   "source": [
    "np.max(np.abs(res1))"
   ]
  },
  {
   "cell_type": "markdown",
   "metadata": {},
   "source": [
    "#### Conclusion\n",
    "This confirms that all the differences are essentially zero and that therefore the\n",
    "observed distance matrix is recovered by the five-dimensional classical scaling\n",
    "solution.\n",
    "\n",
    "*Is that true?*\n",
    "\n",
    "**How to be sure?**"
   ]
  },
  {
   "cell_type": "code",
   "execution_count": 20,
   "metadata": {},
   "outputs": [],
   "source": [
    "from sklearn.decomposition import PCA"
   ]
  },
  {
   "cell_type": "code",
   "execution_count": 21,
   "metadata": {},
   "outputs": [],
   "source": [
    "pca = PCA(n_components=5)"
   ]
  },
  {
   "cell_type": "code",
   "execution_count": 22,
   "metadata": {},
   "outputs": [
    {
     "data": {
      "text/plain": [
       "PCA(copy=True, iterated_power='auto', n_components=5, random_state=None,\n",
       "  svd_solver='auto', tol=0.0, whiten=False)"
      ]
     },
     "execution_count": 22,
     "metadata": {},
     "output_type": "execute_result"
    }
   ],
   "source": [
    "pca.fit(A)"
   ]
  },
  {
   "cell_type": "code",
   "execution_count": 23,
   "metadata": {},
   "outputs": [],
   "source": [
    "PCA_A2 = pca.transform(A)"
   ]
  },
  {
   "cell_type": "code",
   "execution_count": 24,
   "metadata": {},
   "outputs": [
    {
     "data": {
      "text/plain": [
       "array([[-1.60383248, -2.38060903, -2.2301092 , -0.36568559,  0.11536476],\n",
       "       [-2.82463766,  2.30937202, -3.95237825,  0.34191846,  0.33169405],\n",
       "       [-1.6908272 ,  5.13970089,  1.2880306 ,  0.65032274, -0.05133897],\n",
       "       [ 3.95277192,  2.43233961,  0.38337463,  0.68639948, -0.03460933],\n",
       "       [-3.59848941, -2.75538195, -0.25513935,  1.07837408, -1.26125237],\n",
       "       [ 2.95203563, -1.35475175, -0.18990274, -2.82112202,  0.12385813],\n",
       "       [ 3.46899277, -0.76411068,  0.30165311,  1.63691661, -1.94209512],\n",
       "       [ 0.35452351, -2.31408566,  2.21617716,  2.92401163,  2.00450379],\n",
       "       [-2.93623233,  0.01279597,  4.31173854, -2.51227428, -0.18911558],\n",
       "       [ 1.92569524, -0.32526941, -1.87344449, -1.61886112,  0.90299062]])"
      ]
     },
     "execution_count": 24,
     "metadata": {},
     "output_type": "execute_result"
    }
   ],
   "source": [
    "PCA_A2"
   ]
  },
  {
   "cell_type": "code",
   "execution_count": 25,
   "metadata": {},
   "outputs": [
    {
     "data": {
      "text/plain": [
       "array([[-1.60383248,  2.38060903,  2.2301092 , -0.36568559,  0.11536476],\n",
       "       [-2.82463766, -2.30937202,  3.95237825,  0.34191846,  0.33169405],\n",
       "       [-1.6908272 , -5.13970089, -1.2880306 ,  0.65032274, -0.05133897],\n",
       "       [ 3.95277192, -2.43233961, -0.38337463,  0.68639948, -0.03460933],\n",
       "       [-3.59848941,  2.75538195,  0.25513935,  1.07837408, -1.26125237],\n",
       "       [ 2.95203563,  1.35475175,  0.18990274, -2.82112202,  0.12385813],\n",
       "       [ 3.46899277,  0.76411068, -0.30165311,  1.63691661, -1.94209512],\n",
       "       [ 0.35452351,  2.31408566, -2.21617716,  2.92401163,  2.00450379],\n",
       "       [-2.93623233, -0.01279597, -4.31173854, -2.51227428, -0.18911558],\n",
       "       [ 1.92569524,  0.32526941,  1.87344449, -1.61886112,  0.90299062]])"
      ]
     },
     "execution_count": 25,
     "metadata": {},
     "output_type": "execute_result"
    }
   ],
   "source": [
    "A2"
   ]
  },
  {
   "cell_type": "code",
   "execution_count": 26,
   "metadata": {},
   "outputs": [
    {
     "data": {
      "text/plain": [
       "6.772360450213455e-15"
      ]
     },
     "execution_count": 26,
     "metadata": {},
     "output_type": "execute_result"
    }
   ],
   "source": [
    "np.max(np.abs(A2) - np.abs(PCA_A2))"
   ]
  },
  {
   "cell_type": "code",
   "execution_count": 28,
   "metadata": {},
   "outputs": [
    {
     "data": {
      "text/plain": [
       "{<matplotlib.collections.PathCollection at 0x7f7d6ac2c588>,\n",
       " <matplotlib.collections.PathCollection at 0x7f7d6ac2c860>}"
      ]
     },
     "execution_count": 28,
     "metadata": {},
     "output_type": "execute_result"
    },
    {
     "data": {
      "image/png": "[encoded data removed]",
      "text/plain": [
       "<Figure size 432x288 with 1 Axes>"
      ]
     },
     "metadata": {},
     "output_type": "display_data"
    }
   ],
   "source": [
    "import matplotlib.pyplot as plt\n",
    "{plt.scatter(A2[:,0],A2[:,1], c='blue',s=100, edgecolor='k'), plt.scatter(PCA_A2[:,0],PCA_A2[:,1], c='red',s=100, edgecolor='k')}"
   ]
  },
  {
   "cell_type": "code",
   "execution_count": null,
   "metadata": {},
   "outputs": [],
   "source": []
  }
 ],
 "metadata": {
  "kernelspec": {
   "display_name": "Python 3",
   "language": "python",
   "name": "python3"
  },
  "language_info": {
   "codemirror_mode": {
    "name": "ipython",
    "version": 3
   },
   "file_extension": ".py",
   "mimetype": "text/x-python",
   "name": "python",
   "nbconvert_exporter": "python",
   "pygments_lexer": "ipython3",
   "version": "3.6.5"
  }
 },
 "nbformat": 4,
 "nbformat_minor": 2
}
